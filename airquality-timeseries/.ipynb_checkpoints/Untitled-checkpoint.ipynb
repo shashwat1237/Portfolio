{
 "cells": [
  {
   "cell_type": "code",
   "execution_count": 1,
   "id": "bcb7bee2-8061-4cc8-bbdd-4abd6e525e73",
   "metadata": {},
   "outputs": [],
   "source": [
    "import pandas as pd\n",
    "from sklearn.preprocessing import LabelEncoder\n",
    "import numpy as np\n",
    "from xgboost import XGBRegressor\n",
    "from sklearn.metrics import mean_squared_error,mean_absolute_error"
   ]
  },
  {
   "cell_type": "code",
   "execution_count": 2,
   "id": "721277d7-22dd-4f7e-a1e2-f8a4f3c30c8f",
   "metadata": {},
   "outputs": [
    {
     "name": "stdout",
     "output_type": "stream",
     "text": [
      "<class 'pandas.core.frame.DataFrame'>\n",
      "RangeIndex: 43824 entries, 0 to 43823\n",
      "Data columns (total 13 columns):\n",
      " #   Column  Non-Null Count  Dtype  \n",
      "---  ------  --------------  -----  \n",
      " 0   No      43824 non-null  int64  \n",
      " 1   year    43824 non-null  int64  \n",
      " 2   month   43824 non-null  int64  \n",
      " 3   day     43824 non-null  int64  \n",
      " 4   hour    43824 non-null  int64  \n",
      " 5   pm2.5   41757 non-null  float64\n",
      " 6   DEWP    43824 non-null  int64  \n",
      " 7   TEMP    43824 non-null  float64\n",
      " 8   PRES    43824 non-null  float64\n",
      " 9   cbwd    43824 non-null  object \n",
      " 10  Iws     43824 non-null  float64\n",
      " 11  Is      43824 non-null  int64  \n",
      " 12  Ir      43824 non-null  int64  \n",
      "dtypes: float64(4), int64(8), object(1)\n",
      "memory usage: 4.3+ MB\n",
      "None\n"
     ]
    }
   ],
   "source": [
    "df=pd.read_csv(\"timeseries.csv\")\n",
    "print(df.info())"
   ]
  },
  {
   "cell_type": "code",
   "execution_count": 3,
   "id": "749e3b2f-2a0d-470f-a3a0-4f517eb3ba66",
   "metadata": {},
   "outputs": [
    {
     "name": "stdout",
     "output_type": "stream",
     "text": [
      "0.0 994.0\n"
     ]
    }
   ],
   "source": [
    "print(df[\"pm2.5\"].min(),df[\"pm2.5\"].max())"
   ]
  },
  {
   "cell_type": "raw",
   "id": "b7ab0b24-a425-423a-849e-4b5ce5db8fdf",
   "metadata": {},
   "source": [
    "PM2.5 refers to fine inhalable particulate matter with a diameter of 2.5 micrometers or smaller.\n",
    "The above block of code gives the range of pm2.5\n",
    "The aim of this notebook is to analyse and predict pm2.5 levels more efficiently"
   ]
  },
  {
   "cell_type": "code",
   "execution_count": 4,
   "id": "336b8738-5b03-4cf6-b94c-3e659d38fe3a",
   "metadata": {},
   "outputs": [],
   "source": [
    "df['datetime'] = pd.to_datetime(df[['year', 'month', 'day', 'hour']])\n",
    "\n",
    "\n",
    "df.set_index('datetime', inplace=True)"
   ]
  },
  {
   "cell_type": "code",
   "execution_count": 5,
   "id": "887fee5c-56e5-4b0f-a45b-dac273f69a6b",
   "metadata": {},
   "outputs": [
    {
     "name": "stdout",
     "output_type": "stream",
     "text": [
      "<class 'pandas.core.frame.DataFrame'>\n",
      "DatetimeIndex: 43824 entries, 2010-01-01 00:00:00 to 2014-12-31 23:00:00\n",
      "Data columns (total 13 columns):\n",
      " #   Column  Non-Null Count  Dtype  \n",
      "---  ------  --------------  -----  \n",
      " 0   No      43824 non-null  int64  \n",
      " 1   year    43824 non-null  int64  \n",
      " 2   month   43824 non-null  int64  \n",
      " 3   day     43824 non-null  int64  \n",
      " 4   hour    43824 non-null  int64  \n",
      " 5   pm2.5   43800 non-null  float64\n",
      " 6   DEWP    43824 non-null  int64  \n",
      " 7   TEMP    43824 non-null  float64\n",
      " 8   PRES    43824 non-null  float64\n",
      " 9   cbwd    43824 non-null  object \n",
      " 10  Iws     43824 non-null  float64\n",
      " 11  Is      43824 non-null  int64  \n",
      " 12  Ir      43824 non-null  int64  \n",
      "dtypes: float64(4), int64(8), object(1)\n",
      "memory usage: 4.7+ MB\n"
     ]
    },
    {
     "name": "stderr",
     "output_type": "stream",
     "text": [
      "C:\\Users\\shash\\AppData\\Local\\Temp\\ipykernel_17644\\84469201.py:1: FutureWarning: A value is trying to be set on a copy of a DataFrame or Series through chained assignment using an inplace method.\n",
      "The behavior will change in pandas 3.0. This inplace method will never work because the intermediate object on which we are setting values always behaves as a copy.\n",
      "\n",
      "For example, when doing 'df[col].method(value, inplace=True)', try using 'df.method({col: value}, inplace=True)' or df[col] = df[col].method(value) instead, to perform the operation inplace on the original object.\n",
      "\n",
      "\n",
      "  df['pm2.5'].interpolate(method='time', inplace=True)\n"
     ]
    }
   ],
   "source": [
    "df['pm2.5'].interpolate(method='time', inplace=True)\n",
    "df.info()"
   ]
  },
  {
   "cell_type": "raw",
   "id": "0c001881-e7e6-46f3-9d28-bc58c4f65527",
   "metadata": {},
   "source": [
    "Machine learning models dont know how to deal with null values by themselves\n",
    "So we impute the null values with values that have a high probability of occuring there\n",
    "We sometimes use central tendency like mean , median or mode for imputing \n",
    "In time series analysis though , we use interpolate functions which imputes with value that follow the time series variable trend\n"
   ]
  },
  {
   "cell_type": "code",
   "execution_count": 6,
   "id": "e09046ce-8ca5-48d9-bd00-5a0f17821f1b",
   "metadata": {},
   "outputs": [
    {
     "data": {
      "text/plain": [
       "array([2010, 2011, 2012, 2013, 2014])"
      ]
     },
     "execution_count": 6,
     "metadata": {},
     "output_type": "execute_result"
    }
   ],
   "source": [
    "df[\"year\"].unique()"
   ]
  },
  {
   "cell_type": "code",
   "execution_count": 7,
   "id": "f6dc295a-6cd6-472e-adda-d4d9bc3356ea",
   "metadata": {},
   "outputs": [],
   "source": [
    "df[\"year\"]=df[\"year\"]-2009\n"
   ]
  },
  {
   "cell_type": "code",
   "execution_count": 8,
   "id": "8a0a3a66-7ae7-44a2-8b4c-708abae10175",
   "metadata": {},
   "outputs": [],
   "source": [
    "df.drop(\"No\",axis=1,inplace=True)"
   ]
  },
  {
   "cell_type": "code",
   "execution_count": 9,
   "id": "e77f7428-1691-44fb-aeed-14ba2f4391e1",
   "metadata": {},
   "outputs": [
    {
     "data": {
      "text/plain": [
       "array(['NW', 'cv', 'NE', 'SE'], dtype=object)"
      ]
     },
     "execution_count": 9,
     "metadata": {},
     "output_type": "execute_result"
    }
   ],
   "source": [
    "df[\"cbwd\"].unique()"
   ]
  },
  {
   "cell_type": "raw",
   "id": "aab98c9f-b944-414e-bfaa-6956f9fef184",
   "metadata": {},
   "source": [
    "NW: North-West\n",
    "\n",
    "NE: North-East\n",
    "\n",
    "SE: South-East\n",
    "\n",
    "cv: Calm and Variable. This indicates that the wind speed is very low, so a consistent direction cannot be determined."
   ]
  },
  {
   "cell_type": "code",
   "execution_count": 10,
   "id": "e4edb31f-3d3c-498d-98e8-cecd2d61b60c",
   "metadata": {},
   "outputs": [],
   "source": [
    "le=LabelEncoder()\n",
    "df[\"cbwd\"]=le.fit_transform(df[\"cbwd\"])\n",
    "#df.dropna(inplace=True)"
   ]
  },
  {
   "cell_type": "code",
   "execution_count": 11,
   "id": "4f01d63f-8a7e-4876-8aa0-baa30980ff8b",
   "metadata": {},
   "outputs": [
    {
     "name": "stdout",
     "output_type": "stream",
     "text": [
      "<class 'pandas.core.frame.DataFrame'>\n",
      "DatetimeIndex: 43824 entries, 2010-01-01 00:00:00 to 2014-12-31 23:00:00\n",
      "Data columns (total 12 columns):\n",
      " #   Column  Non-Null Count  Dtype  \n",
      "---  ------  --------------  -----  \n",
      " 0   year    43824 non-null  int64  \n",
      " 1   month   43824 non-null  int64  \n",
      " 2   day     43824 non-null  int64  \n",
      " 3   hour    43824 non-null  int64  \n",
      " 4   pm2.5   43800 non-null  float64\n",
      " 5   DEWP    43824 non-null  int64  \n",
      " 6   TEMP    43824 non-null  float64\n",
      " 7   PRES    43824 non-null  float64\n",
      " 8   cbwd    43824 non-null  int64  \n",
      " 9   Iws     43824 non-null  float64\n",
      " 10  Is      43824 non-null  int64  \n",
      " 11  Ir      43824 non-null  int64  \n",
      "dtypes: float64(4), int64(8)\n",
      "memory usage: 4.3 MB\n"
     ]
    }
   ],
   "source": [
    "df.info()"
   ]
  },
  {
   "cell_type": "code",
   "execution_count": 12,
   "id": "3584e968-ab63-4aa9-8288-3952ae50bedd",
   "metadata": {},
   "outputs": [],
   "source": [
    "time_dependent=[\"pm2.5\",\"DEWP\",\"TEMP\",\"PRES\",\"cbwd\",\"Iws\",\"Is\",\"Ir\"]\n",
    "#time_dependent=[\"pm2.5\"]\n",
    "not_time_dependent=[\"year\",\"month\",\"day\",\"hour\",\"datetime\"]\n",
    "\n",
    "df_original=df.copy()"
   ]
  },
  {
   "cell_type": "raw",
   "id": "e9ea2a8c-5e35-4d91-beb9-20dd4689463e",
   "metadata": {},
   "source": [
    "time dependent variables here are temporal variables that change with time , hour, day, month and year"
   ]
  },
  {
   "cell_type": "code",
   "execution_count": 13,
   "id": "7c54ee19-d241-41b1-8344-90d2cb59f455",
   "metadata": {},
   "outputs": [],
   "source": [
    "for column in time_dependent:\n",
    "    \n",
    "    df[column+\"_lag1\"]=df[column].shift(1)\n",
    "    df[column+\"_lag6\"]=df[column].shift(6)\n",
    "    df[column+\"_lag12\"]=df[column].shift(12)\n",
    "    df[column+\"_lag24\"]=df[column].shift(24)\n",
    "    if column==\"cbwd\":\n",
    "        continue\n",
    "    df[column+\"_rolling_mean6\"]=df[column].shift(1).rolling(window=6).mean()\n",
    "    df[column+\"_rolling_mean12\"]=df[column].shift(1).rolling(window=12).mean()\n",
    "    df[column+\"_rolling_mean24\"]=df[column].shift(1).rolling(window=24).mean()\n",
    "    df[column+\"_expanding_mean\"]=df[column].shift(1).expanding().mean()\n",
    "\n",
    "\n",
    "df[\"month_sin\"]=np.sin(2*np.pi*df[\"month\"]/12)\n",
    "df[\"month_cos\"]=np.cos(2*np.pi*df[\"month\"]/12)\n",
    "df[\"day_sin\"]=np.sin(2*np.pi*df[\"day\"]/31)\n",
    "df[\"day_cos\"]=np.cos(2*np.pi*df[\"day\"]/31)\n",
    "df[\"hour_sin\"]=np.sin(2*np.pi*df[\"hour\"]/24)\n",
    "df[\"hour_cos\"]=np.sin(2*np.pi*df[\"hour\"]/24)\n",
    "\n",
    "\n",
    "df.drop([\"month\",\"day\",\"hour\"],axis=1,inplace=True)"
   ]
  },
  {
   "cell_type": "raw",
   "id": "aa9ce28e-fe4a-4a1d-8beb-0b59b1576231",
   "metadata": {},
   "source": [
    "Lag Features (.shift()): I am creating columns like pm2.5_lag1, pm2.5_lag6, etc. A lag feature provides the value from a previous time step. This is extremely useful because the recent past is often a strong predictor of the near future.\n",
    "\n",
    "Rolling Window Features (.rolling()): I am creating columns like pm2.5_rolling_mean6. This calculates the average value of a feature over a moving window of the last time steps . This helps the model understand recent trends and smooths out short-term noise.\n",
    "\n",
    "Expanding Window Features (.expanding()): The expanding_mean feature calculates the mean of all previous data points up to that time. This gives the model a sense of the long-term, overall trend."
   ]
  },
  {
   "cell_type": "raw",
   "id": "7b73bf0e-c3ff-4174-a845-ff887e6c6a29",
   "metadata": {},
   "source": [
    "sin/cos transformation: I am converting cyclical features into two new features using sine and cosine. A simple numerical hour for example hour 23 is far from hour 0, but in reality, they are only one hour apart. This transformation places the time values on a circle, so the model understands that hour 23 is close to hour 0, and December is close to January"
   ]
  },
  {
   "cell_type": "code",
   "execution_count": 14,
   "id": "6b558ec9-5814-4ad3-aaa4-b8d010de7d26",
   "metadata": {},
   "outputs": [],
   "source": [
    "model = XGBRegressor(\n",
    "    n_estimators=100,\n",
    "    learning_rate=0.1,\n",
    "    max_depth=5,\n",
    "    subsample=0.8,\n",
    "    colsample_bytree=0.8,\n",
    "    random_state=42\n",
    ")\n"
   ]
  },
  {
   "cell_type": "raw",
   "id": "2a880419-1efd-4ef9-9f40-e5f2505320fe",
   "metadata": {},
   "source": [
    "I am using XGBoost Regressor model for predicting pm2.5 values"
   ]
  },
  {
   "cell_type": "code",
   "execution_count": 15,
   "id": "4bb805d6-1094-4da6-872a-d00182a0dc18",
   "metadata": {},
   "outputs": [],
   "source": [
    "columns=list(df.columns)\n",
    "def give_x_y(df,to_remove):\n",
    "    columns=df.columns\n",
    "    x_columns=[]\n",
    "    y_columns=[]\n",
    "    for col in columns:\n",
    "        if to_remove==col:\n",
    "            y_columns.append(col)\n",
    "        else:\n",
    "            x_columns.append(col)\n",
    "\n",
    "    return df[x_columns],df[y_columns]\n",
    "\n",
    "\n"
   ]
  },
  {
   "cell_type": "code",
   "execution_count": 16,
   "id": "547535e6-7732-4ad9-94ea-e645a11ab7e6",
   "metadata": {},
   "outputs": [],
   "source": [
    "df.drop([\"DEWP\",\"TEMP\",\"PRES\",\"cbwd\",\"Iws\",\"Is\",\"Ir\"],axis=1,inplace=True)\n",
    "df.dropna(inplace=True)"
   ]
  },
  {
   "cell_type": "code",
   "execution_count": 17,
   "id": "992c08b1-5b77-462b-8db7-02ba8a4fe561",
   "metadata": {},
   "outputs": [],
   "source": [
    "train=df[df[\"year\"]!=5]\n",
    "test=df[df[\"year\"]==5]\n",
    "\n"
   ]
  },
  {
   "cell_type": "raw",
   "id": "f3c0499f-8934-4937-83b9-a7db33e0f9ce",
   "metadata": {},
   "source": [
    "Train here is the training dataset from all years before 2014 and after 2009\n",
    "Test here is the testing dataset of 2014 year"
   ]
  },
  {
   "cell_type": "code",
   "execution_count": 18,
   "id": "7489a037-af96-4693-8df5-cfb04a0c8297",
   "metadata": {
    "scrolled": true
   },
   "outputs": [
    {
     "name": "stdout",
     "output_type": "stream",
     "text": [
      "<class 'pandas.core.frame.DataFrame'>\n",
      "DatetimeIndex: 35016 entries, 2010-01-03 00:00:00 to 2013-12-31 23:00:00\n",
      "Data columns (total 68 columns):\n",
      " #   Column                Non-Null Count  Dtype  \n",
      "---  ------                --------------  -----  \n",
      " 0   year                  35016 non-null  int64  \n",
      " 1   pm2.5                 35016 non-null  float64\n",
      " 2   pm2.5_lag1            35016 non-null  float64\n",
      " 3   pm2.5_lag6            35016 non-null  float64\n",
      " 4   pm2.5_lag12           35016 non-null  float64\n",
      " 5   pm2.5_lag24           35016 non-null  float64\n",
      " 6   pm2.5_rolling_mean6   35016 non-null  float64\n",
      " 7   pm2.5_rolling_mean12  35016 non-null  float64\n",
      " 8   pm2.5_rolling_mean24  35016 non-null  float64\n",
      " 9   pm2.5_expanding_mean  35016 non-null  float64\n",
      " 10  DEWP_lag1             35016 non-null  float64\n",
      " 11  DEWP_lag6             35016 non-null  float64\n",
      " 12  DEWP_lag12            35016 non-null  float64\n",
      " 13  DEWP_lag24            35016 non-null  float64\n",
      " 14  DEWP_rolling_mean6    35016 non-null  float64\n",
      " 15  DEWP_rolling_mean12   35016 non-null  float64\n",
      " 16  DEWP_rolling_mean24   35016 non-null  float64\n",
      " 17  DEWP_expanding_mean   35016 non-null  float64\n",
      " 18  TEMP_lag1             35016 non-null  float64\n",
      " 19  TEMP_lag6             35016 non-null  float64\n",
      " 20  TEMP_lag12            35016 non-null  float64\n",
      " 21  TEMP_lag24            35016 non-null  float64\n",
      " 22  TEMP_rolling_mean6    35016 non-null  float64\n",
      " 23  TEMP_rolling_mean12   35016 non-null  float64\n",
      " 24  TEMP_rolling_mean24   35016 non-null  float64\n",
      " 25  TEMP_expanding_mean   35016 non-null  float64\n",
      " 26  PRES_lag1             35016 non-null  float64\n",
      " 27  PRES_lag6             35016 non-null  float64\n",
      " 28  PRES_lag12            35016 non-null  float64\n",
      " 29  PRES_lag24            35016 non-null  float64\n",
      " 30  PRES_rolling_mean6    35016 non-null  float64\n",
      " 31  PRES_rolling_mean12   35016 non-null  float64\n",
      " 32  PRES_rolling_mean24   35016 non-null  float64\n",
      " 33  PRES_expanding_mean   35016 non-null  float64\n",
      " 34  cbwd_lag1             35016 non-null  float64\n",
      " 35  cbwd_lag6             35016 non-null  float64\n",
      " 36  cbwd_lag12            35016 non-null  float64\n",
      " 37  cbwd_lag24            35016 non-null  float64\n",
      " 38  Iws_lag1              35016 non-null  float64\n",
      " 39  Iws_lag6              35016 non-null  float64\n",
      " 40  Iws_lag12             35016 non-null  float64\n",
      " 41  Iws_lag24             35016 non-null  float64\n",
      " 42  Iws_rolling_mean6     35016 non-null  float64\n",
      " 43  Iws_rolling_mean12    35016 non-null  float64\n",
      " 44  Iws_rolling_mean24    35016 non-null  float64\n",
      " 45  Iws_expanding_mean    35016 non-null  float64\n",
      " 46  Is_lag1               35016 non-null  float64\n",
      " 47  Is_lag6               35016 non-null  float64\n",
      " 48  Is_lag12              35016 non-null  float64\n",
      " 49  Is_lag24              35016 non-null  float64\n",
      " 50  Is_rolling_mean6      35016 non-null  float64\n",
      " 51  Is_rolling_mean12     35016 non-null  float64\n",
      " 52  Is_rolling_mean24     35016 non-null  float64\n",
      " 53  Is_expanding_mean     35016 non-null  float64\n",
      " 54  Ir_lag1               35016 non-null  float64\n",
      " 55  Ir_lag6               35016 non-null  float64\n",
      " 56  Ir_lag12              35016 non-null  float64\n",
      " 57  Ir_lag24              35016 non-null  float64\n",
      " 58  Ir_rolling_mean6      35016 non-null  float64\n",
      " 59  Ir_rolling_mean12     35016 non-null  float64\n",
      " 60  Ir_rolling_mean24     35016 non-null  float64\n",
      " 61  Ir_expanding_mean     35016 non-null  float64\n",
      " 62  month_sin             35016 non-null  float64\n",
      " 63  month_cos             35016 non-null  float64\n",
      " 64  day_sin               35016 non-null  float64\n",
      " 65  day_cos               35016 non-null  float64\n",
      " 66  hour_sin              35016 non-null  float64\n",
      " 67  hour_cos              35016 non-null  float64\n",
      "dtypes: float64(67), int64(1)\n",
      "memory usage: 18.4 MB\n",
      "None\n",
      "<class 'pandas.core.frame.DataFrame'>\n",
      "DatetimeIndex: 8760 entries, 2014-01-01 00:00:00 to 2014-12-31 23:00:00\n",
      "Data columns (total 68 columns):\n",
      " #   Column                Non-Null Count  Dtype  \n",
      "---  ------                --------------  -----  \n",
      " 0   year                  8760 non-null   int64  \n",
      " 1   pm2.5                 8760 non-null   float64\n",
      " 2   pm2.5_lag1            8760 non-null   float64\n",
      " 3   pm2.5_lag6            8760 non-null   float64\n",
      " 4   pm2.5_lag12           8760 non-null   float64\n",
      " 5   pm2.5_lag24           8760 non-null   float64\n",
      " 6   pm2.5_rolling_mean6   8760 non-null   float64\n",
      " 7   pm2.5_rolling_mean12  8760 non-null   float64\n",
      " 8   pm2.5_rolling_mean24  8760 non-null   float64\n",
      " 9   pm2.5_expanding_mean  8760 non-null   float64\n",
      " 10  DEWP_lag1             8760 non-null   float64\n",
      " 11  DEWP_lag6             8760 non-null   float64\n",
      " 12  DEWP_lag12            8760 non-null   float64\n",
      " 13  DEWP_lag24            8760 non-null   float64\n",
      " 14  DEWP_rolling_mean6    8760 non-null   float64\n",
      " 15  DEWP_rolling_mean12   8760 non-null   float64\n",
      " 16  DEWP_rolling_mean24   8760 non-null   float64\n",
      " 17  DEWP_expanding_mean   8760 non-null   float64\n",
      " 18  TEMP_lag1             8760 non-null   float64\n",
      " 19  TEMP_lag6             8760 non-null   float64\n",
      " 20  TEMP_lag12            8760 non-null   float64\n",
      " 21  TEMP_lag24            8760 non-null   float64\n",
      " 22  TEMP_rolling_mean6    8760 non-null   float64\n",
      " 23  TEMP_rolling_mean12   8760 non-null   float64\n",
      " 24  TEMP_rolling_mean24   8760 non-null   float64\n",
      " 25  TEMP_expanding_mean   8760 non-null   float64\n",
      " 26  PRES_lag1             8760 non-null   float64\n",
      " 27  PRES_lag6             8760 non-null   float64\n",
      " 28  PRES_lag12            8760 non-null   float64\n",
      " 29  PRES_lag24            8760 non-null   float64\n",
      " 30  PRES_rolling_mean6    8760 non-null   float64\n",
      " 31  PRES_rolling_mean12   8760 non-null   float64\n",
      " 32  PRES_rolling_mean24   8760 non-null   float64\n",
      " 33  PRES_expanding_mean   8760 non-null   float64\n",
      " 34  cbwd_lag1             8760 non-null   float64\n",
      " 35  cbwd_lag6             8760 non-null   float64\n",
      " 36  cbwd_lag12            8760 non-null   float64\n",
      " 37  cbwd_lag24            8760 non-null   float64\n",
      " 38  Iws_lag1              8760 non-null   float64\n",
      " 39  Iws_lag6              8760 non-null   float64\n",
      " 40  Iws_lag12             8760 non-null   float64\n",
      " 41  Iws_lag24             8760 non-null   float64\n",
      " 42  Iws_rolling_mean6     8760 non-null   float64\n",
      " 43  Iws_rolling_mean12    8760 non-null   float64\n",
      " 44  Iws_rolling_mean24    8760 non-null   float64\n",
      " 45  Iws_expanding_mean    8760 non-null   float64\n",
      " 46  Is_lag1               8760 non-null   float64\n",
      " 47  Is_lag6               8760 non-null   float64\n",
      " 48  Is_lag12              8760 non-null   float64\n",
      " 49  Is_lag24              8760 non-null   float64\n",
      " 50  Is_rolling_mean6      8760 non-null   float64\n",
      " 51  Is_rolling_mean12     8760 non-null   float64\n",
      " 52  Is_rolling_mean24     8760 non-null   float64\n",
      " 53  Is_expanding_mean     8760 non-null   float64\n",
      " 54  Ir_lag1               8760 non-null   float64\n",
      " 55  Ir_lag6               8760 non-null   float64\n",
      " 56  Ir_lag12              8760 non-null   float64\n",
      " 57  Ir_lag24              8760 non-null   float64\n",
      " 58  Ir_rolling_mean6      8760 non-null   float64\n",
      " 59  Ir_rolling_mean12     8760 non-null   float64\n",
      " 60  Ir_rolling_mean24     8760 non-null   float64\n",
      " 61  Ir_expanding_mean     8760 non-null   float64\n",
      " 62  month_sin             8760 non-null   float64\n",
      " 63  month_cos             8760 non-null   float64\n",
      " 64  day_sin               8760 non-null   float64\n",
      " 65  day_cos               8760 non-null   float64\n",
      " 66  hour_sin              8760 non-null   float64\n",
      " 67  hour_cos              8760 non-null   float64\n",
      "dtypes: float64(67), int64(1)\n",
      "memory usage: 4.6 MB\n",
      "None\n"
     ]
    }
   ],
   "source": [
    "x_train,y_train=give_x_y(train,\"pm2.5\")\n",
    "x_test,y_test=give_x_y(test,\"pm2.5\")\n",
    "print(train.info())\n",
    "print(test.info())"
   ]
  },
  {
   "cell_type": "code",
   "execution_count": 19,
   "id": "4e83e997-ba4c-4730-b606-016c8a1160f3",
   "metadata": {},
   "outputs": [
    {
     "name": "stdout",
     "output_type": "stream",
     "text": [
      "479.6981201171875\n",
      "12.120123863220215\n"
     ]
    }
   ],
   "source": [
    "model.fit(x_train,y_train)\n",
    "y_pred=model.predict(x_test)\n",
    "print(mean_squared_error(y_test,y_pred))\n",
    "print(mean_absolute_error(y_test,y_pred))"
   ]
  },
  {
   "cell_type": "code",
   "execution_count": 20,
   "id": "4f940d98-c0c3-4713-973f-f0a27a9bf5d9",
   "metadata": {},
   "outputs": [
    {
     "data": {
      "text/plain": [
       "<Axes: >"
      ]
     },
     "execution_count": 20,
     "metadata": {},
     "output_type": "execute_result"
    },
    {
     "data": {
      "image/png": "[encoded data removed]",
      "text/plain": [
       "<Figure size 640x480 with 1 Axes>"
      ]
     },
     "metadata": {},
     "output_type": "display_data"
    }
   ],
   "source": [
    "df[\"pm2.5\"].hist()"
   ]
  },
  {
   "cell_type": "raw",
   "id": "3468e24e-a660-4268-a37f-88f6373298db",
   "metadata": {},
   "source": [
    "Pm2.5 here is very right skewed, a lot of low pm2.5 values are occuring"
   ]
  },
  {
   "cell_type": "code",
   "execution_count": 22,
   "id": "5e3d622e-71a3-4cd1-a88b-9700220e28cc",
   "metadata": {},
   "outputs": [
    {
     "data": {
      "text/plain": [
       "np.float64(1.821368684226992)"
      ]
     },
     "execution_count": 22,
     "metadata": {},
     "output_type": "execute_result"
    }
   ],
   "source": [
    "df[\"pm2.5\"].skew()"
   ]
  },
  {
   "cell_type": "code",
   "execution_count": 23,
   "id": "9de269d4-c428-4184-a1cd-8da8ad7985c2",
   "metadata": {},
   "outputs": [
    {
     "data": {
      "text/plain": [
       "np.float64(-0.31594601417338514)"
      ]
     },
     "execution_count": 23,
     "metadata": {},
     "output_type": "execute_result"
    }
   ],
   "source": [
    "np.log1p(df[\"pm2.5\"]).skew()"
   ]
  },
  {
   "cell_type": "code",
   "execution_count": 24,
   "id": "d492811a-da82-40d2-ae03-ddc1e1a2404c",
   "metadata": {},
   "outputs": [
    {
     "data": {
      "text/plain": [
       "<Axes: >"
      ]
     },
     "execution_count": 24,
     "metadata": {},
     "output_type": "execute_result"
    },
    {
     "data": {
      "image/png": "[encoded data removed]",
      "text/plain": [
       "<Figure size 640x480 with 1 Axes>"
      ]
     },
     "metadata": {},
     "output_type": "display_data"
    }
   ],
   "source": [
    "np.log1p(df[\"pm2.5\"]).hist()"
   ]
  },
  {
   "cell_type": "raw",
   "id": "7b60bd0c-7825-4de9-a2a9-70833947439a",
   "metadata": {},
   "source": [
    "log value of pm2.5 reduces skewness a lot"
   ]
  },
  {
   "cell_type": "code",
   "execution_count": 25,
   "id": "24b0231c-94c4-40fe-a99a-e7aa508fd3be",
   "metadata": {},
   "outputs": [],
   "source": [
    "df=df_original.copy()"
   ]
  },
  {
   "cell_type": "code",
   "execution_count": 26,
   "id": "de4c112b-0aca-4b60-bc28-6b9e07ff87e0",
   "metadata": {},
   "outputs": [],
   "source": [
    "df[\"pm2.5\"]=np.log1p(df[\"pm2.5\"])"
   ]
  },
  {
   "cell_type": "raw",
   "id": "346e3831-c4b0-4975-9592-e3f9748f4bf4",
   "metadata": {},
   "source": [
    "Here onwards i am testing a new configuration for my XGBoost Model\n",
    "Here I am reducing data leakage and making the model more fair\n",
    "As my model considers current DEWP , TEMP, PRES, cbwd , Iws , Is, Ir in the current hour for predicting pm2.5 but that is never the case so i am preserving their lagged features and dropping the features tracking the conditions of the current hour which would constitute as cheating as it is not realistic"
   ]
  },
  {
   "cell_type": "code",
   "execution_count": 27,
   "id": "830ad6df-8a84-4a94-ae05-c5d1225a72e5",
   "metadata": {},
   "outputs": [],
   "source": [
    "df[\"month_sin\"]=np.sin(2*np.pi*df[\"month\"]/12)\n",
    "df[\"month_cos\"]=np.cos(2*np.pi*df[\"month\"]/12)\n",
    "df[\"day_sin\"]=np.sin(2*np.pi*df[\"day\"]/31)\n",
    "df[\"day_cos\"]=np.cos(2*np.pi*df[\"day\"]/31)\n",
    "df[\"hour_sin\"]=np.sin(2*np.pi*df[\"hour\"]/24)\n",
    "df[\"hour_cos\"]=np.sin(2*np.pi*df[\"hour\"]/24)\n",
    "df.drop([\"month\",\"day\",\"hour\"],axis=1,inplace=True)"
   ]
  },
  {
   "cell_type": "code",
   "execution_count": 28,
   "id": "2e2d5d97-a692-4b45-8908-df3016332922",
   "metadata": {},
   "outputs": [],
   "source": [
    "time_dependent=[\"DEWP\",\"TEMP\",\"PRES\",\"cbwd\",\"Iws\",\"Is\",\"Ir\",\"pm2.5\"]\n",
    "#time_dependent=[\"pm2.5\"]"
   ]
  },
  {
   "cell_type": "code",
   "execution_count": 29,
   "id": "eb6099d8-4d3c-4c67-82c0-7891b5de6ba8",
   "metadata": {},
   "outputs": [],
   "source": [
    "for column in time_dependent:\n",
    "    \n",
    "    df[column+\"_lag1\"]=df[column].shift(1)\n",
    "    df[column+\"_lag6\"]=df[column].shift(6)\n",
    "    df[column+\"_lag12\"]=df[column].shift(12)\n",
    "    df[column+\"_lag24\"]=df[column].shift(24)\n",
    "    if column==\"cbwd\":\n",
    "        continue\n",
    "    df[column+\"_rolling_mean6\"]=df[column].shift(1).rolling(window=6).mean()\n",
    "    df[column+\"_rolling_mean12\"]=df[column].shift(1).rolling(window=12).mean()\n",
    "    df[column+\"_rolling_mean24\"]=df[column].shift(1).rolling(window=24).mean()\n",
    "    df[column+\"_expanding_mean\"]=df[column].shift(1).expanding().mean()\n"
   ]
  },
  {
   "cell_type": "code",
   "execution_count": 30,
   "id": "e51ad75b-84ef-4cbe-bdf1-69ff20f51ad8",
   "metadata": {},
   "outputs": [],
   "source": [
    "df.drop([\"DEWP\",\"TEMP\",\"PRES\",\"cbwd\",\"Iws\",\"Is\",\"Ir\"],axis=1,inplace=True)\n",
    "df.dropna(inplace=True)"
   ]
  },
  {
   "cell_type": "code",
   "execution_count": 31,
   "id": "4f390d96-0d46-41e6-bb45-29115ceb5825",
   "metadata": {},
   "outputs": [
    {
     "name": "stdout",
     "output_type": "stream",
     "text": [
      "594.2402954101562\n",
      "13.627603530883789\n"
     ]
    }
   ],
   "source": [
    "model = XGBRegressor(\n",
    "    n_estimators=100,\n",
    "    learning_rate=0.1,\n",
    "    max_depth=5,\n",
    "    subsample=0.8,\n",
    "    colsample_bytree=0.8,\n",
    "    random_state=42\n",
    ")\n",
    "\n",
    "train=df[df[\"year\"]!=5]\n",
    "test=df[df[\"year\"]==5]\n",
    "x_train,y_train=give_x_y(train,\"pm2.5\")\n",
    "x_test,y_test=give_x_y(test,\"pm2.5\")\n",
    "model.fit(x_train,y_train)\n",
    "y_pred=model.predict(x_test)\n",
    "print(mean_squared_error(np.expm1(y_test),np.expm1(y_pred)))\n",
    "print(mean_absolute_error(np.expm1(y_test),np.expm1(y_pred)))"
   ]
  },
  {
   "cell_type": "code",
   "execution_count": null,
   "id": "60f9ec93-4d4b-414f-b64a-6e7973100bb8",
   "metadata": {},
   "outputs": [],
   "source": [
    "The more fair model seems to have an increased error rate"
   ]
  },
  {
   "cell_type": "code",
   "execution_count": 32,
   "id": "aec560c5-8e75-4a70-a634-7e0eab8fbd11",
   "metadata": {},
   "outputs": [
    {
     "name": "stdout",
     "output_type": "stream",
     "text": [
      "625.2344970703125\n",
      "13.447685241699219\n"
     ]
    }
   ],
   "source": [
    "train_weights = df_original.loc[train.index]['pm2.5'].values\n",
    "model = XGBRegressor(\n",
    "    n_estimators=100,\n",
    "    learning_rate=0.1,\n",
    "    max_depth=5,\n",
    "    subsample=0.8,\n",
    "    colsample_bytree=0.8,\n",
    "    random_state=42\n",
    ")\n",
    "\n",
    "train=df[df[\"year\"]!=5]\n",
    "test=df[df[\"year\"]==5]\n",
    "x_train,y_train=give_x_y(train,\"pm2.5\")\n",
    "x_test,y_test=give_x_y(test,\"pm2.5\")\n",
    "model.fit(x_train,y_train,sample_weight=train_weights)\n",
    "y_pred=model.predict(x_test)\n",
    "print(mean_squared_error(np.expm1(y_test),np.expm1(y_pred)))\n",
    "print(mean_absolute_error(np.expm1(y_test),np.expm1(y_pred)))"
   ]
  },
  {
   "cell_type": "raw",
   "id": "e0e3fcee-ac58-498d-b12e-8b658a4c8dd6",
   "metadata": {},
   "source": [
    "Here I have employed another model which is more careful with error rate calculations"
   ]
  },
  {
   "cell_type": "code",
   "execution_count": 33,
   "id": "19031906-b31b-434a-a994-26f490386fee",
   "metadata": {},
   "outputs": [
    {
     "data": {
      "text/plain": [
       "<Axes: >"
      ]
     },
     "execution_count": 33,
     "metadata": {},
     "output_type": "execute_result"
    },
    {
     "data": {
      "image/png": "[encoded data removed]",
      "text/plain": [
       "<Figure size 640x480 with 1 Axes>"
      ]
     },
     "metadata": {},
     "output_type": "display_data"
    }
   ],
   "source": [
    "np.expm1(df[\"pm2.5\"]).plot(kind=\"box\")"
   ]
  },
  {
   "cell_type": "code",
   "execution_count": 34,
   "id": "d4e4c242-03d8-4a3f-91bf-c299dc27068f",
   "metadata": {},
   "outputs": [
    {
     "data": {
      "image/png": "[encoded data removed]",
      "text/plain": [
       "<Figure size 1000x800 with 1 Axes>"
      ]
     },
     "metadata": {},
     "output_type": "display_data"
    }
   ],
   "source": [
    "import matplotlib.pyplot as plt\n",
    "import seaborn as sns\n",
    "\n",
    "# Make sure 'model' is your trained XGBoost model and 'x_train' has your feature names\n",
    "feature_importances = model.feature_importances_\n",
    "importance_df = pd.DataFrame({\n",
    "    'Feature': x_train.columns,\n",
    "    'Importance': feature_importances\n",
    "}).sort_values(by='Importance', ascending=False)\n",
    "\n",
    "# Plot the top 15 features\n",
    "plt.figure(figsize=(10, 8))\n",
    "sns.barplot(x='Importance', y='Feature', data=importance_df.head(15))\n",
    "plt.title('Top 15 Feature Importances')\n",
    "plt.show()"
   ]
  },
  {
   "cell_type": "raw",
   "id": "44f8973f-ced6-4ec9-9e23-72a8bf58fd59",
   "metadata": {},
   "source": [
    "Now i have obtained the top 15 features in terms of importance according to the model for their prediction, \n",
    "Unnecessary features tend to increase error and are useless in retrospective"
   ]
  },
  {
   "cell_type": "code",
   "execution_count": 35,
   "id": "3fdfd370-6e29-4ee4-8a0e-003169f5e4f3",
   "metadata": {},
   "outputs": [
    {
     "name": "stdout",
     "output_type": "stream",
     "text": [
      "year -0.03008743411221747\n",
      "pm2.5 1.0\n",
      "month_sin 0.0027958132075318115\n",
      "month_cos -0.028954261439923617\n",
      "day_sin -0.07922941178015468\n",
      "day_cos -0.0032682016858293825\n",
      "hour_sin 0.026426035002496826\n",
      "hour_cos 0.026426035002496826\n",
      "DEWP_lag1 0.30437067726636197\n",
      "DEWP_lag6 0.24422073926581842\n",
      "DEWP_lag12 0.18005309969193672\n",
      "DEWP_lag24 0.10139348258724638\n",
      "DEWP_rolling_mean6 0.277229927183947\n",
      "DEWP_rolling_mean12 0.2425485680805308\n",
      "DEWP_rolling_mean24 0.19119078012352403\n",
      "DEWP_expanding_mean -0.003328201165501785\n",
      "TEMP_lag1 0.018058492942669934\n",
      "TEMP_lag6 0.04954607286637052\n",
      "TEMP_lag12 0.06082242079209592\n",
      "TEMP_lag24 0.002386789587693273\n",
      "TEMP_rolling_mean6 0.03155907507462618\n",
      "TEMP_rolling_mean12 0.04880110532322033\n",
      "TEMP_rolling_mean24 0.03583644093416374\n",
      "TEMP_expanding_mean 0.002379033537075064\n",
      "PRES_lag1 -0.15575687764988677\n",
      "PRES_lag6 -0.12868621547227074\n",
      "PRES_lag12 -0.06346567497360196\n",
      "PRES_lag24 0.024450632793654604\n",
      "PRES_rolling_mean6 -0.14441815095348837\n",
      "PRES_rolling_mean12 -0.11889399993396858\n",
      "PRES_rolling_mean24 -0.0647679505139053\n",
      "PRES_expanding_mean -0.009578000144810054\n",
      "cbwd_lag1 0.32090882637911133\n",
      "cbwd_lag6 0.3429720748181302\n",
      "cbwd_lag12 0.2733890540773959\n",
      "cbwd_lag24 0.16482237703321032\n",
      "Iws_lag1 -0.3476342175418848\n",
      "Iws_lag6 -0.30248772897616333\n",
      "Iws_lag12 -0.24519169597702456\n",
      "Iws_lag24 -0.1526979588732279\n",
      "Iws_rolling_mean6 -0.34452035205782156\n",
      "Iws_rolling_mean12 -0.3306976810008848\n",
      "Iws_rolling_mean24 -0.30471963893019816\n",
      "Iws_expanding_mean -0.005031347114815879\n",
      "Is_lag1 0.03286775301925932\n",
      "Is_lag6 0.034808537016091566\n",
      "Is_lag12 0.0209667351049737\n",
      "Is_lag24 -0.018324823044301327\n",
      "Is_rolling_mean6 0.03807474737725088\n",
      "Is_rolling_mean12 0.038843423108177066\n",
      "Is_rolling_mean24 0.020957898120600938\n",
      "Is_expanding_mean -0.010305433169367809\n",
      "Ir_lag1 -0.05648424852384686\n",
      "Ir_lag6 -0.06825593676633353\n",
      "Ir_lag12 -0.07441756061849887\n",
      "Ir_lag24 -0.07034985555316495\n",
      "Ir_rolling_mean6 -0.06893582094859767\n",
      "Ir_rolling_mean12 -0.08139281673740986\n",
      "Ir_rolling_mean24 -0.10086214503575382\n",
      "Ir_expanding_mean -0.015369491820361795\n",
      "pm2.5_lag1 0.9631857692419113\n",
      "pm2.5_lag6 0.7490237654737298\n",
      "pm2.5_lag12 0.5563949816814995\n",
      "pm2.5_lag24 0.3423404765820593\n",
      "pm2.5_rolling_mean6 0.8909559102091695\n",
      "pm2.5_rolling_mean12 0.8111293953601837\n",
      "pm2.5_rolling_mean24 0.696612726146377\n",
      "pm2.5_expanding_mean 0.02235004740093468\n"
     ]
    }
   ],
   "source": [
    "output=df.corr()[\"pm2.5\"]\n",
    "i=0\n",
    "l=len(output)\n",
    "while i<l:\n",
    "    print(output.index[i],output.iloc[i])\n",
    "    i+=1"
   ]
  },
  {
   "cell_type": "code",
   "execution_count": 36,
   "id": "7ca7f5af-fd49-46e8-9753-1eda604868a0",
   "metadata": {},
   "outputs": [],
   "source": [
    "new_df=df[[\"pm2.5_lag1\",\"pm2.5_rolling_mean6\",\"cbwd_lag1\",\"TEMP_rolling_mean24\",\"month_cos\",\n",
    "          \"pm2.5_lag6\",\"Iws_lag1\",\"DEWP_lag1\",\"pm2.5_rolling_mean24\",\"DEWP_lag6\",\"pm2.5\",\"year\"]]\n"
   ]
  },
  {
   "cell_type": "raw",
   "id": "299c6cbb-abe4-4d9c-8fe5-a8af0563994d",
   "metadata": {},
   "source": [
    "Now from the above top 15 features, i take the 10 most important features and run the model according to it"
   ]
  },
  {
   "cell_type": "code",
   "execution_count": 37,
   "id": "95727d54-a97f-415b-8367-9286071bed7b",
   "metadata": {},
   "outputs": [
    {
     "name": "stdout",
     "output_type": "stream",
     "text": [
      "487.682373046875\n",
      "12.064406394958496\n"
     ]
    }
   ],
   "source": [
    "train_weights = new_df.loc[train.index]['pm2.5'].values\n",
    "model = XGBRegressor(\n",
    "    n_estimators=100,\n",
    "    learning_rate=0.1,\n",
    "    max_depth=5,\n",
    "    subsample=0.8,\n",
    "    colsample_bytree=0.8,\n",
    "    random_state=42\n",
    ")\n",
    "\n",
    "train=new_df[new_df[\"year\"]!=5]\n",
    "test=new_df[new_df[\"year\"]==5]\n",
    "x_train,y_train=give_x_y(train,\"pm2.5\")\n",
    "x_test,y_test=give_x_y(test,\"pm2.5\")\n",
    "model.fit(x_train,y_train,sample_weight=train_weights)\n",
    "y_pred=model.predict(x_test)\n",
    "print(mean_squared_error(np.expm1(y_test),np.expm1(y_pred)))\n",
    "print(mean_absolute_error(np.expm1(y_test),np.expm1(y_pred)))"
   ]
  },
  {
   "cell_type": "raw",
   "id": "bfb3b550-7924-4e02-84a5-5032b0af79f8",
   "metadata": {},
   "source": [
    "As you can see , the error rate decreases by some amount"
   ]
  },
  {
   "cell_type": "code",
   "execution_count": null,
   "id": "9dde4137-9761-453c-aeb3-645fd5eeb2c0",
   "metadata": {},
   "outputs": [],
   "source": []
  }
 ],
 "metadata": {
  "kernelspec": {
   "display_name": "Python 3 (ipykernel)",
   "language": "python",
   "name": "python3"
  },
  "language_info": {
   "codemirror_mode": {
    "name": "ipython",
    "version": 3
   },
   "file_extension": ".py",
   "mimetype": "text/x-python",
   "name": "python",
   "nbconvert_exporter": "python",
   "pygments_lexer": "ipython3",
   "version": "3.11.9"
  }
 },
 "nbformat": 4,
 "nbformat_minor": 5
}
